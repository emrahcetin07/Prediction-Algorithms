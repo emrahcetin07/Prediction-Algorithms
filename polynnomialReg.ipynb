{
  "nbformat": 4,
  "nbformat_minor": 0,
  "metadata": {
    "colab": {
      "private_outputs": true,
      "provenance": [],
      "authorship_tag": "ABX9TyPU1UrHfpC2eRikOKrr53s8",
      "include_colab_link": true
    },
    "kernelspec": {
      "name": "python3",
      "display_name": "Python 3"
    },
    "language_info": {
      "name": "python"
    }
  },
  "cells": [
    {
      "cell_type": "markdown",
      "metadata": {
        "id": "view-in-github",
        "colab_type": "text"
      },
      "source": [
        "<a href=\"https://colab.research.google.com/github/emrahcetin07/Prediction-Algorithms/blob/main/polynnomialReg.ipynb\" target=\"_parent\"><img src=\"https://colab.research.google.com/assets/colab-badge.svg\" alt=\"Open In Colab\"/></a>"
      ]
    },
    {
      "cell_type": "code",
      "execution_count": null,
      "metadata": {
        "id": "8JYBJ5zpCeg8"
      },
      "outputs": [],
      "source": [
        "from google.colab import drive\n",
        "drive.mount('/gdrive')\n",
        "%cd /gdrive\n",
        "import os\n",
        "os.chdir('/gdrive/My Drive/Tahmin_Algoritmaları')\n",
        "!ls\n",
        "import pandas as pd\n",
        "import numpy as np\n",
        "import matplotlib.pyplot  as plt\n",
        "veriler = pd.read_csv('maaslar.csv')\n",
        "print(veriler)"
      ]
    },
    {
      "cell_type": "markdown",
      "source": [
        "Sayısal verileri aldık"
      ],
      "metadata": {
        "id": "qj-pDp5ZyfeE"
      }
    },
    {
      "cell_type": "code",
      "source": [
        "x=veriler.iloc[:,1:2]\n",
        "y=veriler.iloc[:,2:]\n",
        "X=x.values\n",
        "Y=x.values\n",
        "print(x)\n",
        "print(y)"
      ],
      "metadata": {
        "id": "c8kqKlYXbgo8"
      },
      "execution_count": null,
      "outputs": []
    },
    {
      "cell_type": "markdown",
      "source": [
        "linearreg. modeli ile öğrenme"
      ],
      "metadata": {
        "id": "h1Ca0eWwy8Q6"
      }
    },
    {
      "cell_type": "code",
      "source": [
        "from sklearn.linear_model import LinearRegression\n",
        "lin_reg = LinearRegression()\n",
        "lin_reg.fit(X,Y)\n",
        "\n",
        "plt.scatter(X,Y,color='black')\n",
        "plt.plot(x,lin_reg.predict(X), color = 'gray')\n",
        "plt.show()"
      ],
      "metadata": {
        "id": "yqE3rnK-yjJL"
      },
      "execution_count": null,
      "outputs": []
    },
    {
      "cell_type": "markdown",
      "source": [
        "Polynomial regression"
      ],
      "metadata": {
        "id": "8uFECTZ51kR7"
      }
    },
    {
      "cell_type": "code",
      "source": [
        "from sklearn.preprocessing import PolynomialFeatures\n",
        "poly_reg=PolynomialFeatures(degree=2)#2.DERECEDEN\n",
        "x_poly=poly_reg.fit_transform(X)\n",
        "print(x_poly)\n",
        "\n",
        "lin_reg2=LinearRegression()\n",
        "lin_reg2.fit(x_poly,y)\n",
        "plt.scatter(X,Y,color=\"black\")\n",
        "plt.plot(X,lin_reg2.predict(poly_reg.fit_transform(X)),color=\"gray\")\n",
        "plt.show()\n",
        "\n",
        "from sklearn.preprocessing import PolynomialFeatures\n",
        "poly_reg=PolynomialFeatures(degree=8) #4.DERECEDEN\n",
        "x_poly=poly_reg.fit_transform(X)\n",
        "print(x_poly)\n",
        "\n",
        "lin_reg2=LinearRegression()\n",
        "lin_reg2.fit(x_poly,y)\n",
        "plt.scatter(X,Y,color=\"black\")\n",
        "plt.plot(X,lin_reg2.predict(poly_reg.fit_transform(X)),color=\"gray\")\n",
        "plt.show()"
      ],
      "metadata": {
        "id": "Z7rK-Oyn1jRs"
      },
      "execution_count": null,
      "outputs": []
    },
    {
      "cell_type": "code",
      "source": [
        "print(lin_reg.predict([[11]]))#11.seviye birisi için tahmini maaş\n",
        "print(lin_reg.predict([[6.6]]))\n",
        "print(lin_reg2.predict(poly_reg.fit_transform([[6.6]]))) #2. dereceden algoritmaya göre maaş"
      ],
      "metadata": {
        "id": "f3USHVWP7ZWn"
      },
      "execution_count": null,
      "outputs": []
    }
  ]
}