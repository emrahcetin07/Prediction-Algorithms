{
  "nbformat": 4,
  "nbformat_minor": 0,
  "metadata": {
    "colab": {
      "private_outputs": true,
      "provenance": [],
      "collapsed_sections": [],
      "authorship_tag": "ABX9TyPVuXCz5nsjfINkW2qdG5f6",
      "include_colab_link": true
    },
    "kernelspec": {
      "name": "python3",
      "display_name": "Python 3"
    },
    "language_info": {
      "name": "python"
    }
  },
  "cells": [
    {
      "cell_type": "markdown",
      "metadata": {
        "id": "view-in-github",
        "colab_type": "text"
      },
      "source": [
        "<a href=\"https://colab.research.google.com/github/emrahcetin07/Prediction-Algorithms/blob/main/Simple_Linear_Regression.ipynb\" target=\"_parent\"><img src=\"https://colab.research.google.com/assets/colab-badge.svg\" alt=\"Open In Colab\"/></a>"
      ]
    },
    {
      "cell_type": "code",
      "execution_count": null,
      "metadata": {
        "id": "QmdJDLNWWqpY"
      },
      "outputs": [],
      "source": [
        "from google.colab import drive\n",
        "drive.mount('/gdrive')\n",
        "%cd /gdrive"
      ]
    },
    {
      "cell_type": "code",
      "source": [
        "import os\n",
        "os.chdir('/gdrive/My Drive/Tahmin_Algoritmaları')\n",
        "!ls"
      ],
      "metadata": {
        "id": "g0eEVB8R17sK"
      },
      "execution_count": null,
      "outputs": []
    },
    {
      "cell_type": "code",
      "source": [
        "import pandas as pd\n",
        "import numpy as np\n",
        "import matplotlib.pyplot  as plt\n",
        "veriler = pd.read_csv('satislar.csv')\n",
        "print(veriler)"
      ],
      "metadata": {
        "id": "o2XKwOvaDFxr"
      },
      "execution_count": null,
      "outputs": []
    },
    {
      "cell_type": "markdown",
      "source": [
        "veri ön işleme"
      ],
      "metadata": {
        "id": "-xwQPxHcF4Nc"
      }
    },
    {
      "cell_type": "code",
      "source": [
        "aylar=veriler[['Aylar']]\n",
        "satislar=veriler[['Satislar']]\n",
        "satislar2=veriler.iloc[:,:1].values\n",
        "\n",
        "from sklearn.model_selection import train_test_split#test size 0,33 yani %33 ünü test etcez  ve %67 eğiteceğiz\n",
        "x_train, x_test, y_train, y_test = train_test_split(aylar,satislar ,test_size=0.33,random_state=0)\n",
        "\n",
        "print(x_train)\n",
        "print(x_test)\n",
        "print(y_train)\n",
        "print(y_test)"
      ],
      "metadata": {
        "id": "1vmfEPxhF20M"
      },
      "execution_count": null,
      "outputs": []
    },
    {
      "cell_type": "markdown",
      "source": [
        "Veri ölçekleme(bu kodlar çok da gerekli değil)"
      ],
      "metadata": {
        "id": "F4QNLrNTO074"
      }
    },
    {
      "cell_type": "code",
      "source": [
        "from sklearn.preprocessing import StandardScaler\n",
        "sc=StandardScaler()\n",
        "X_train=sc.fit_transform(x_train)\n",
        "X_test=sc.fit_transform(x_test)\n",
        "Y_train=sc.fit_transform(y_train)\n",
        "Y_test=sc.fit_transform(y_test)\n"
      ],
      "metadata": {
        "id": "OmY2sK8hH0xD"
      },
      "execution_count": null,
      "outputs": []
    },
    {
      "cell_type": "markdown",
      "source": [
        "model oluşturma:linear regression"
      ],
      "metadata": {
        "id": "hXsQu7JeKdBU"
      }
    },
    {
      "cell_type": "code",
      "source": [
        "from sklearn.linear_model import LinearRegression\n",
        "lr=LinearRegression()\n",
        "lr.fit(x_train,y_train)\n",
        "tahmin=lr.predict(x_test)\n",
        "print(tahmin)"
      ],
      "metadata": {
        "id": "gXjHz-FGKbWv"
      },
      "execution_count": null,
      "outputs": []
    },
    {
      "cell_type": "markdown",
      "source": [
        "Veri görselleştirme"
      ],
      "metadata": {
        "id": "-PSHTib9MIDu"
      }
    },
    {
      "cell_type": "code",
      "source": [
        "x_train=x_train.sort_index()#indexe göre sılarız çizdirmek için bu şart\n",
        "#print(x_train)\n",
        "#print(y_train)\n",
        "y_train=y_train.sort_index()\n",
        "plt.plot(x_train,y_train)\n",
        "plt.plot(x_test,lr.predict(x_test))\n",
        "plt.title(\"Aylara Göre Satış\")\n",
        "plt.xlabel(\"Aylar\")\n",
        "plt.xlabel(\"Satışlar\")\n",
        "#train ve test verileri random üretildiği için aşağıdkai grafik farklı çıkabilir."
      ],
      "metadata": {
        "id": "lk3eSjB7MLFe"
      },
      "execution_count": null,
      "outputs": []
    }
  ]
}