{
  "nbformat": 4,
  "nbformat_minor": 0,
  "metadata": {
    "colab": {
      "private_outputs": true,
      "provenance": [],
      "authorship_tag": "ABX9TyPArlpwUOH9gi2XuW+Hbuq7",
      "include_colab_link": true
    },
    "kernelspec": {
      "name": "python3",
      "display_name": "Python 3"
    },
    "language_info": {
      "name": "python"
    }
  },
  "cells": [
    {
      "cell_type": "markdown",
      "metadata": {
        "id": "view-in-github",
        "colab_type": "text"
      },
      "source": [
        "<a href=\"https://colab.research.google.com/github/emrahcetin07/Prediction-Algorithms/blob/main/supportVectorRegression.ipynb\" target=\"_parent\"><img src=\"https://colab.research.google.com/assets/colab-badge.svg\" alt=\"Open In Colab\"/></a>"
      ]
    },
    {
      "cell_type": "code",
      "execution_count": null,
      "metadata": {
        "id": "SCRXdtmwVQFC"
      },
      "outputs": [],
      "source": [
        "from google.colab import drive\n",
        "drive.mount('/gdrive')\n",
        "%cd /gdrive\n",
        "import os\n",
        "os.chdir('/gdrive/My Drive/Tahmin_Algoritmaları')\n",
        "!ls\n",
        "import pandas as pd\n",
        "import numpy as np\n",
        "import matplotlib.pyplot  as plt\n"
      ]
    },
    {
      "cell_type": "code",
      "source": [
        "veriler = pd.read_csv('maaslar.csv')\n",
        "\n",
        "x = veriler.iloc[:,1:2]\n",
        "y = veriler.iloc[:,2:]\n",
        "X = x.values\n",
        "Y = y.values\n",
        "\n",
        "from sklearn.linear_model import LinearRegression\n",
        "lin_reg = LinearRegression()\n",
        "lin_reg.fit(X,Y)\n",
        "\n",
        "plt.scatter(X,Y,color='red')\n",
        "plt.plot(x,lin_reg.predict(X), color = 'blue')\n",
        "plt.show()\n",
        "\n",
        "from sklearn.preprocessing import PolynomialFeatures\n",
        "poly_reg = PolynomialFeatures(degree = 2)\n",
        "x_poly = poly_reg.fit_transform(X)\n",
        "print(x_poly)\n",
        "lin_reg2 = LinearRegression()\n",
        "lin_reg2.fit(x_poly,y)\n",
        "plt.scatter(X,Y,color = 'red')\n",
        "plt.plot(X,lin_reg2.predict(poly_reg.fit_transform(X)), color = 'blue')\n",
        "plt.show()"
      ],
      "metadata": {
        "id": "42DKk8_SgD0Y"
      },
      "execution_count": null,
      "outputs": []
    },
    {
      "cell_type": "markdown",
      "source": [
        "Ölçeklendirme(SVM de mutlaka yapmalıyız)"
      ],
      "metadata": {
        "id": "pyQ4rtWhXhP7"
      }
    },
    {
      "cell_type": "code",
      "source": [
        "from sklearn.preprocessing import StandardScaler\n",
        "sc1=StandardScaler()\n",
        "x_olcekli=sc1.fit_transform(X)\n",
        "\n",
        "sc2=StandardScaler()\n",
        "y_olcekli=sc2.fit_transform(Y)"
      ],
      "metadata": {
        "id": "phqHfeiMXgc-"
      },
      "execution_count": null,
      "outputs": []
    },
    {
      "cell_type": "markdown",
      "source": [
        "destek vektör makinesi algoritması"
      ],
      "metadata": {
        "id": "sQ9sfUeGXsbS"
      }
    },
    {
      "cell_type": "code",
      "source": [
        "from sklearn.svm import SVR\n",
        "svr_reg=SVR(kernel='rbf')\n",
        "svr_reg.fit(x_olcekli,y_olcekli)\n",
        "plt.scatter(x_olcekli,y_olcekli,color='red')\n",
        "plt.plot(x_olcekli,svr_reg.predict(x_olcekli),color='black') #x_olcekliyi tahmin eder"
      ],
      "metadata": {
        "id": "bVANNHjpXnMA"
      },
      "execution_count": null,
      "outputs": []
    }
  ]
}