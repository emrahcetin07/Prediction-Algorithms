{
  "nbformat": 4,
  "nbformat_minor": 0,
  "metadata": {
    "colab": {
      "private_outputs": true,
      "provenance": [],
      "collapsed_sections": [],
      "authorship_tag": "ABX9TyNMf6l5CVqrs7YgcWY0MfWC",
      "include_colab_link": true
    },
    "kernelspec": {
      "name": "python3",
      "display_name": "Python 3"
    },
    "language_info": {
      "name": "python"
    }
  },
  "cells": [
    {
      "cell_type": "markdown",
      "metadata": {
        "id": "view-in-github",
        "colab_type": "text"
      },
      "source": [
        "<a href=\"https://colab.research.google.com/github/emrahcetin07/Prediction-Algorithms/blob/main/MultipleLinearReg.ipynb\" target=\"_parent\"><img src=\"https://colab.research.google.com/assets/colab-badge.svg\" alt=\"Open In Colab\"/></a>"
      ]
    },
    {
      "cell_type": "code",
      "execution_count": null,
      "metadata": {
        "id": "22okv1ZLYDCm"
      },
      "outputs": [],
      "source": [
        "from google.colab import drive\n",
        "drive.mount('/gdrive')\n",
        "%cd /gdrive\n",
        "\n",
        "\n",
        "\n"
      ]
    },
    {
      "cell_type": "code",
      "source": [
        "import os\n",
        "os.chdir('/gdrive/My Drive/Tahmin_Algoritmaları')\n",
        "!ls"
      ],
      "metadata": {
        "id": "5yYqqlu4bXoA"
      },
      "execution_count": null,
      "outputs": []
    },
    {
      "cell_type": "code",
      "source": [
        "\n",
        "\n",
        "! pip install pandas\n"
      ],
      "metadata": {
        "id": "rn3wreYowH5-"
      },
      "execution_count": null,
      "outputs": []
    },
    {
      "cell_type": "code",
      "source": [
        "import pandas as pd\n",
        "import numpy as np\n",
        "import matplotlib.pyplot  as plt\n",
        "veriler = pd.read_csv('veri.csv')\n",
        "print(veriler)\n",
        "\n"
      ],
      "metadata": {
        "id": "pHqSKqOIZxr3"
      },
      "execution_count": null,
      "outputs": []
    },
    {
      "cell_type": "markdown",
      "source": [
        "Kategorik verileri nümeriğe çevirme(ülke ve cinsiyet için)\n",
        "\n",
        "\n",
        "\n"
      ],
      "metadata": {
        "id": "Xad6HbH7Zcpy"
      }
    },
    {
      "cell_type": "code",
      "source": [
        "Yas = veriler.iloc[:,1:4].values\n",
        "print(Yas)\n",
        "\n",
        "#encoder: Kategorik -> Numeric\n",
        "ulke = veriler.iloc[:,0:1].values\n",
        "print(ulke)\n",
        "\n",
        "from sklearn import preprocessing\n",
        "\n",
        "le = preprocessing.LabelEncoder()\n",
        "\n",
        "ulke[:,0] = le.fit_transform(veriler.iloc[:,0])\n",
        "\n",
        "print(ulke)\n",
        "\n",
        "ohe = preprocessing.OneHotEncoder()\n",
        "ulke = ohe.fit_transform(ulke).toarray()\n",
        "print(ulke)\n",
        "#iloc da yazan değer: cinsiyet  kolonun en sonda olduğundan -1\n",
        "#encoder: Kategorik -> Numeric\n",
        "c = veriler.iloc[:,-1:].values\n",
        "print(c)\n",
        "\n"
      ],
      "metadata": {
        "id": "q_nVgy5FZbSS"
      },
      "execution_count": null,
      "outputs": []
    },
    {
      "cell_type": "code",
      "source": [
        "# cinsiyet için kodlar*****************\n",
        "c=veriler.iloc[:,-1:].values\n",
        "print(c)\n",
        "\n",
        "le = preprocessing.LabelEncoder()\n",
        "c[:,-1]=le.fit_transform(veriler.iloc[:,-1])\n",
        "print(c)\n",
        "\n",
        "ohe = preprocessing.OneHotEncoder()\n",
        "c=ohe.fit_transform(c).toarray()\n",
        "print(c)\n"
      ],
      "metadata": {
        "id": "JBt4YDMymBO1"
      },
      "execution_count": null,
      "outputs": []
    },
    {
      "cell_type": "code",
      "source": [
        "#numpy dizileri dataframe donusumu\n",
        "sonuc = pd.DataFrame(data=ulke, index = range(22), columns = ['fr','tr','us'])\n",
        "print(sonuc)\n",
        "\n",
        "sonuc2 = pd.DataFrame(data=Yas, index = range(22), columns = ['boy','kilo','yas'])\n",
        "print(sonuc2)\n",
        "\n",
        "cinsiyet = veriler.iloc[:,-1].values\n",
        "print(cinsiyet)\n",
        "\n",
        "sonuc3 = pd.DataFrame(data = c[:,:1], index = range(22), columns = ['cinsiyet'])\n",
        "print(sonuc3)\n",
        "\n",
        "\n",
        "#dataframe birlestirme islemi\n",
        "s=pd.concat([sonuc,sonuc2], axis=1)\n",
        "print(s)\n",
        "\n",
        "s2=pd.concat([s,sonuc3], axis=1)\n",
        "print(s2)\n",
        "\n"
      ],
      "metadata": {
        "id": "P0T7fWHEddXq"
      },
      "execution_count": null,
      "outputs": []
    },
    {
      "cell_type": "code",
      "source": [
        "#verilerin egitim ve test icin bolunmesi\n",
        "from sklearn.model_selection import train_test_split\n",
        "\n",
        "x_train, x_test,y_train,y_test = train_test_split(s,sonuc3,test_size=0.33, random_state=0)\n",
        "\n",
        "\n",
        "from sklearn.linear_model import LinearRegression\n",
        "regressor = LinearRegression()\n",
        "regressor.fit(x_train,y_train)\n",
        "\n",
        "y_pred = regressor.predict(x_test)\n",
        "\n",
        "boy = s2.iloc[:,3:4].values\n",
        "print(boy)\n",
        "sol = s2.iloc[:,:3]\n",
        "sag = s2.iloc[:,4:]\n",
        "\n",
        "veri = pd.concat([sol,sag],axis=1)\n",
        "\n",
        "x_train, x_test, y_train, y_test = train_test_split(veri,boy,test_size=0.33, random_state=0)\n",
        "\n",
        "r2 = LinearRegression()\n",
        "r2.fit(x_train,y_train)\n",
        "\n",
        "y_pred = r2.predict(x_test)"
      ],
      "metadata": {
        "id": "q7M3r_U6jBbN"
      },
      "execution_count": null,
      "outputs": []
    },
    {
      "cell_type": "markdown",
      "source": [
        " backward elimination method"
      ],
      "metadata": {
        "id": "hv_cWniv84YO"
      }
    },
    {
      "cell_type": "code",
      "source": [
        "import statsmodels.api as sm\n",
        "X=np.append(arr = np.ones((22,1)).astype(int),values=veri,axis=1) #BİRLERDEN OLUŞAN DİZİ\n",
        "print(X)\n",
        "X_l=veri.iloc[:,[0,1,2,3,4,5]].values\n",
        "X_l=np.array(X_l,dtype=float)\n",
        "model=sm.OLS(boy,X_l).fit()\n",
        "print(model.summary())\n",
        "\n",
        "X_l=veri.iloc[:,[0,1,2,3,5]].values\n",
        "X_l=np.array(X_l,dtype=float)\n",
        "model=sm.OLS(boy,X_l).fit()\n",
        "print(model.summary())\n",
        "\n",
        "X_l=veri.iloc[:,[0,1,2,3]].values\n",
        "X_l=np.array(X_l,dtype=float)\n",
        "model=sm.OLS(boy,X_l).fit()\n",
        "print(model.summary())"
      ],
      "metadata": {
        "id": "FILM7JB68co7"
      },
      "execution_count": null,
      "outputs": []
    }
  ]
}