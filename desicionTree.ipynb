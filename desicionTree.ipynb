{
  "nbformat": 4,
  "nbformat_minor": 0,
  "metadata": {
    "colab": {
      "private_outputs": true,
      "provenance": [],
      "collapsed_sections": [],
      "authorship_tag": "ABX9TyNyVq2HoIw1onYPuFZZRCqJ",
      "include_colab_link": true
    },
    "kernelspec": {
      "name": "python3",
      "display_name": "Python 3"
    },
    "language_info": {
      "name": "python"
    }
  },
  "cells": [
    {
      "cell_type": "markdown",
      "metadata": {
        "id": "view-in-github",
        "colab_type": "text"
      },
      "source": [
        "<a href=\"https://colab.research.google.com/github/emrahcetin07/Prediction-Algorithms/blob/main/desicionTree.ipynb\" target=\"_parent\"><img src=\"https://colab.research.google.com/assets/colab-badge.svg\" alt=\"Open In Colab\"/></a>"
      ]
    },
    {
      "cell_type": "code",
      "execution_count": null,
      "metadata": {
        "id": "TFp14lW57AMo"
      },
      "outputs": [],
      "source": [
        "from google.colab import drive\n",
        "drive.mount('/gdrive')\n",
        "%cd /gdrive\n",
        "import os\n",
        "os.chdir('/gdrive/My Drive/Tahmin_Algoritmaları')\n",
        "!ls\n",
        "import pandas as pd\n",
        "import numpy as np\n",
        "import matplotlib.pyplot  as plt"
      ]
    },
    {
      "cell_type": "code",
      "source": [
        "veriler = pd.read_csv('maaslar.csv')\n",
        "\n",
        "x = veriler.iloc[:,1:2]\n",
        "y = veriler.iloc[:,2:]\n",
        "X = x.values\n",
        "Y = y.values\n"
      ],
      "metadata": {
        "id": "kG3cSUgWCAbZ"
      },
      "execution_count": null,
      "outputs": []
    },
    {
      "cell_type": "markdown",
      "source": [
        "Scaler"
      ],
      "metadata": {
        "id": "zi6IdHDQKdPR"
      }
    },
    {
      "cell_type": "code",
      "source": [
        "from sklearn.preprocessing import StandardScaler\n",
        "sc1=StandardScaler()\n",
        "x_olcekli=sc1.fit_transform(X)\n",
        "\n",
        "sc2=StandardScaler()\n",
        "y_olcekli=sc2.fit_transform(Y)"
      ],
      "metadata": {
        "id": "rJTa3HGfFSjV"
      },
      "execution_count": null,
      "outputs": []
    },
    {
      "cell_type": "markdown",
      "source": [
        "desicion tree algorithm"
      ],
      "metadata": {
        "id": "HMrQP0ADKZY4"
      }
    },
    {
      "cell_type": "code",
      "source": [
        "from sklearn .tree import DecisionTreeRegressor\n",
        "r_dt=DecisionTreeRegressor(random_state=0)\n",
        "r_dt.fit(X,Y)\n",
        "\n",
        "plt.scatter(X,Y)\n",
        "plt.plot(X,r_dt.predict(X))"
      ],
      "metadata": {
        "id": "hbTllEzyE8RQ"
      },
      "execution_count": null,
      "outputs": []
    },
    {
      "cell_type": "code",
      "source": [
        "print(r_dt.predict([[6.51]]))"
      ],
      "metadata": {
        "id": "GPT3nnIBGNAt"
      },
      "execution_count": null,
      "outputs": []
    }
  ]
}