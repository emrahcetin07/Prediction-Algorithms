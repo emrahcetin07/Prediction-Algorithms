{
  "nbformat": 4,
  "nbformat_minor": 0,
  "metadata": {
    "colab": {
      "private_outputs": true,
      "provenance": [],
      "collapsed_sections": [],
      "authorship_tag": "ABX9TyP4poxkrlEdefM6mtEx1JYT",
      "include_colab_link": true
    },
    "kernelspec": {
      "name": "python3",
      "display_name": "Python 3"
    },
    "language_info": {
      "name": "python"
    }
  },
  "cells": [
    {
      "cell_type": "markdown",
      "metadata": {
        "id": "view-in-github",
        "colab_type": "text"
      },
      "source": [
        "<a href=\"https://colab.research.google.com/github/emrahcetin07/Prediction-Algorithms/blob/main/Hw.ipynb\" target=\"_parent\"><img src=\"https://colab.research.google.com/assets/colab-badge.svg\" alt=\"Open In Colab\"/></a>"
      ]
    },
    {
      "cell_type": "code",
      "execution_count": null,
      "metadata": {
        "id": "1ckxhKAIDOwG"
      },
      "outputs": [],
      "source": [
        "from google.colab import drive\n",
        "drive.mount('/gdrive')\n",
        "%cd /gdrive"
      ]
    },
    {
      "cell_type": "code",
      "source": [
        "import os\n",
        "os.chdir('/gdrive/My Drive/Tahmin_Algoritmaları')\n",
        "!ls"
      ],
      "metadata": {
        "id": "8RLy4sWxDo_D"
      },
      "execution_count": null,
      "outputs": []
    },
    {
      "cell_type": "code",
      "source": [
        "import pandas as pd\n",
        "import numpy as np\n",
        "import matplotlib.pyplot  as plt\n",
        "veriler = pd.read_csv('odev_tenis.csv')\n",
        "print(veriler)"
      ],
      "metadata": {
        "id": "g5X_IgA2Dsu3"
      },
      "execution_count": null,
      "outputs": []
    },
    {
      "cell_type": "markdown",
      "source": [
        "Kategorikden nümerige dönüştürme(Aşagıdaki kod ile daha basit şekilde herşeyi nümerege dönüştürürz)"
      ],
      "metadata": {
        "id": "MMASQwM2EqdS"
      }
    },
    {
      "cell_type": "code",
      "source": [
        "from sklearn import preprocessing\n",
        "veriler2=veriler.apply(preprocessing.LabelEncoder().fit_transform)\n",
        "c=veriler2.iloc[:,:1]\n",
        "ohe=preprocessing.OneHotEncoder()\n",
        "c=ohe.fit_transform(c).toarray()\n",
        "\n",
        "#aşağıda algoritma için veriler istenilen şekilde düzeniyor ve yeni bir saysal veri kümesi oluşturuluyor.\n",
        "havadurumu=pd.DataFrame(data=c,index=range(14),columns=['o','r','s'])\n",
        "sonveriler=pd.concat([havadurumu,veriler.iloc[:,1:3]],axis=1)\n",
        "print(sonveriler)\n",
        "sonveriler=pd.concat([veriler2.iloc[:,-2:],sonveriler],axis=1)\n",
        "print(sonveriler)"
      ],
      "metadata": {
        "id": "A6Szwuf4EDPt"
      },
      "execution_count": null,
      "outputs": []
    },
    {
      "cell_type": "code",
      "source": [
        "from sklearn.model_selection import train_test_split\n",
        "\n",
        "x_train, x_test,y_train,y_test = train_test_split(sonveriler.iloc[:,:-1],sonveriler.iloc[:,-1],test_size=0.33, random_state=0)\n",
        "\n",
        "print(x_train)\n",
        "print(y_train)\n",
        "print(x_test)\n",
        "print(y_test)\n",
        "from sklearn.linear_model import LinearRegression\n",
        "regressor = LinearRegression()\n",
        "regressor.fit(x_train,y_train)\n",
        "y_pred = regressor.predict(x_test)\n"
      ],
      "metadata": {
        "id": "OSfPIqnHLMH9"
      },
      "execution_count": null,
      "outputs": []
    },
    {
      "cell_type": "code",
      "source": [
        "!pip install statsmodels\n",
        "!pip install numpy\n",
        "!pip install pandas\n",
        "!pip install matplotlib"
      ],
      "metadata": {
        "id": "DzBpIr_R6d41"
      },
      "execution_count": null,
      "outputs": []
    },
    {
      "cell_type": "markdown",
      "source": [
        "Backward elimination"
      ],
      "metadata": {
        "id": "WFIFYr6WTcxW"
      }
    },
    {
      "cell_type": "code",
      "source": [
        "import statsmodels.api as sm \n",
        "X = np.append(arr = np.ones((14,1)).astype(int), values=sonveriler.iloc[:,:-1], axis=1 )\n",
        "\n",
        "X_l = sonveriler.iloc[:,[0,1,2,3,4,5]].values\n",
        "X_l=np.array(X_l,dtype=float)\n",
        "model=sm.OLS (sonveriler.iloc[:,-1:],X_l).fit()\n",
        "print(model.summary())\n",
        "\n",
        "\n",
        "\n"
      ],
      "metadata": {
        "id": "5r2MM6iNMJ7B"
      },
      "execution_count": null,
      "outputs": []
    },
    {
      "cell_type": "code",
      "source": [
        "sonveriler = sonveriler.iloc[:,1:]\n",
        "\n",
        "X = np.append(arr = np.ones((14,1)).astype(int), values=sonveriler.iloc[:,:-1], axis=1 )\n",
        "\n",
        "X_l = sonveriler.iloc[:,[0,1,]].values\n",
        "X_l=np.array(X_l,dtype=float)\n",
        "model=sm.OLS(sonveriler.iloc[:,-1:], X_l).fit()\n",
        "print(model.summary())\n"
      ],
      "metadata": {
        "id": "EzX_9uM8AjvC"
      },
      "execution_count": null,
      "outputs": []
    },
    {
      "cell_type": "code",
      "source": [
        "x_train=x_train.iloc[:,1:]\n",
        "x_test=x_test.iloc[:,1:]\n",
        "regressor.fit(x_train,y_train)\n",
        "y_pred = regressor.predict(x_test)\n",
        "\n",
        "\n",
        "X = np.append(arr = np.ones((14,1)).astype(int), values=sonveriler.iloc[:,:-1], axis=1 )\n",
        "X_l = sonveriler.iloc[:,[0,1]].values\n",
        "X_l=np.array(X_l,dtype=float)\n",
        "model=sm.OLS(sonveriler.iloc[:,-1:],X_l).fit()\n",
        "print(model.summary())\n",
        "\n",
        "\n"
      ],
      "metadata": {
        "id": "rWH-EuTzSV85"
      },
      "execution_count": null,
      "outputs": []
    }
  ]
}